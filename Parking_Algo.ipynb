{
  "nbformat": 4,
  "nbformat_minor": 0,
  "metadata": {
    "colab": {
      "provenance": []
    },
    "kernelspec": {
      "name": "python3",
      "display_name": "Python 3"
    },
    "language_info": {
      "name": "python"
    }
  },
  "cells": [
    {
      "cell_type": "code",
      "execution_count": 1,
      "metadata": {
        "colab": {
          "base_uri": "https://localhost:8080/"
        },
        "id": "-LmoGvdQIS5I",
        "outputId": "c9c87216-9a3e-4dc5-beb9-82ecd9f85d91"
      },
      "outputs": [
        {
          "output_type": "stream",
          "name": "stdout",
          "text": [
            "Car width 3 and length 5 assigned to parking 2\n"
          ]
        }
      ],
      "source": [
        "def fit_car_between_cones(distances, car_width, car_length, max_length_allowed):\n",
        "    assigned_cones = []  # List to store the assigned cones\n",
        "\n",
        "    def find_closest_distance_index(distance, distances):\n",
        "        closest_index = 0\n",
        "        min_difference = abs(distances[0] - distance)\n",
        "        for i in range(1, len(distances)):\n",
        "            difference = abs(distances[i] - distance)\n",
        "            if difference < min_difference:\n",
        "                min_difference = difference\n",
        "                closest_index = i\n",
        "        return closest_index\n",
        "\n",
        "    def assign_car_to_cone(distance, car_width, car_length, cone_index):\n",
        "        if car_length > max_length_allowed:\n",
        "            print(f\"Cannot park car with width {car_width} and length {car_length} between Cone {cone_index} and Cone {cone_index + 1}. Car length exceeds the maximum allowed length.\")\n",
        "        else:\n",
        "            assigned_cones.append(f\"Car width {car_width} and length {car_length} assigned to parking {cone_index}\")\n",
        "\n",
        "    closest_index = find_closest_distance_index(car_width, distances)\n",
        "    closest_distance = distances[closest_index]\n",
        "    assign_car_to_cone(closest_distance, car_width, car_length, closest_index + 1)\n",
        "\n",
        "    return assigned_cones\n",
        "\n",
        "\n",
        "# Example usage\n",
        "distances = [9, 4, 12, 7]  # Distances between cones\n",
        "car_width = 3  # Width of the car\n",
        "car_length = 5  # Length of the car\n",
        "max_length_allowed = 6  # Maximum allowed length for parking\n",
        "assigned_cones = fit_car_between_cones(distances, car_width, car_length, max_length_allowed)\n",
        "for cone_assignment in assigned_cones:\n",
        "    print(cone_assignment)"
      ]
    },
    {
      "cell_type": "code",
      "source": [],
      "metadata": {
        "id": "kXajIagaIcK8"
      },
      "execution_count": null,
      "outputs": []
    }
  ]
}